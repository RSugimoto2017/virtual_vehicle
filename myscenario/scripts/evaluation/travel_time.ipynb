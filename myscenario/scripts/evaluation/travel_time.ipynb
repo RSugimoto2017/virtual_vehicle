{
 "cells": [
  {
   "cell_type": "code",
   "execution_count": 1,
   "metadata": {
    "collapsed": true
   },
   "outputs": [],
   "source": [
    "# ライブラリのインポート\n",
    "import numpy as np\n",
    "import pandas as pd\n",
    "import os"
   ]
  },
  {
   "cell_type": "code",
   "execution_count": 2,
   "outputs": [],
   "source": [
    "travel_time_normal_3am_3 = np.zeros(11)\n",
    "travel_time_normal_3am_5 = np.zeros(11)\n",
    "travel_time_normal_3am_10 = np.zeros(11)\n",
    "travel_time_normal_8am_3 = np.zeros(11)\n",
    "travel_time_normal_8am_5 = np.zeros(11)\n",
    "travel_time_normal_8am_10 = np.zeros(11)\n",
    "travel_time_suggestion_3am_3 = np.zeros(11)\n",
    "travel_time_suggestion_3am_5 = np.zeros(11)\n",
    "travel_time_suggestion_3am_10 = np.zeros(11)\n",
    "travel_time_suggestion_8am_3 = np.zeros(11)\n",
    "travel_time_suggestion_8am_5 = np.zeros(11)\n",
    "travel_time_suggestion_8am_10 = np.zeros(11)"
   ],
   "metadata": {
    "collapsed": false,
    "pycharm": {
     "name": "#%%\n"
    }
   }
  },
  {
   "cell_type": "code",
   "execution_count": null,
   "outputs": [
    {
     "name": "stdout",
     "output_type": "stream",
     "text": [
      "True\n",
      "True\n",
      "True\n",
      "True\n",
      "True\n",
      "True\n",
      "True\n",
      "True\n",
      "True\n",
      "True\n",
      "True\n",
      "True\n",
      "True\n",
      "True\n",
      "True\n",
      "True\n",
      "True\n",
      "True\n",
      "True\n",
      "True\n",
      "True\n",
      "True\n",
      "True\n",
      "True\n",
      "True\n",
      "True\n",
      "True\n",
      "True\n",
      "True\n",
      "True\n",
      "True\n",
      "True\n"
     ]
    }
   ],
   "source": [
    "# 必要パラメータ\n",
    "method = 'normal'\n",
    "schedule = '3am'\n",
    "change_pseudo_num = 10\n",
    "threshold = 10\n",
    "\n",
    "# ファイルのパス指定\n",
    "veh_data = '../../output/{}/{}/change_num_{}/threshold_{}/veh_data.csv'.format(method, schedule, change_pseudo_num, threshold)\n",
    "print(os.path.exists(veh_data))\n",
    "\n",
    "# csvファイルの読み込み\n",
    "veh_df = pd.read_csv(veh_data)\n",
    "all_veh = [veh_id for veh_id in set(veh_df.id.values) if 'virtual' not in veh_id.split('_')]\n",
    "\n",
    "travel_time_list = list()\n",
    "for vehicle in all_veh:\n",
    "    first_step = veh_df[veh_df['id'] == vehicle].iloc[0].step\n",
    "    last_step = veh_df[veh_df['id'] == vehicle].iloc[-1].step\n",
    "    travel_time_list.append(last_step - first_step)\n",
    "mean_travel_time = np.mean(travel_time_list)\n",
    "exec(\"travel_time_{}_{}_{}\".format(method, schedule, threshold) + \"[change_pseudo_num] = mean_travel_time\")"
   ],
   "metadata": {
    "collapsed": false,
    "pycharm": {
     "name": "#%%\n",
     "is_executing": true
    }
   }
  },
  {
   "cell_type": "code",
   "execution_count": null,
   "outputs": [],
   "source": [
    "excel_travel_time_df = pd.DataFrame(\n",
    "    data={\n",
    "        ('normal', 'threshold=3(3am)') : pd.Series(data=travel_time_normal_3am_3),\n",
    "        ('normal', 'threshold=3(8am)') : pd.Series(data=travel_time_normal_8am_3),\n",
    "        ('normal', 'threshold=5(3am)') : pd.Series(data=travel_time_normal_3am_5),\n",
    "        ('normal', 'threshold=5(8am)') : pd.Series(data=travel_time_normal_8am_5),\n",
    "        ('normal', 'threshold=10(3am)') : pd.Series(data=travel_time_normal_3am_10),\n",
    "        ('normal', 'threshold=10(8am)') : pd.Series(data=travel_time_normal_8am_10),\n",
    "        ('suggestion', 'threshold=3(3am)') : pd.Series(data=travel_time_suggestion_3am_3),\n",
    "        ('suggestion', 'threshold=3(8am)') : pd.Series(data=travel_time_suggestion_8am_3),\n",
    "        ('suggestion', 'threshold=5(3am)') : pd.Series(data=travel_time_suggestion_3am_5),\n",
    "        ('suggestion', 'threshold=5(8am)') : pd.Series(data=travel_time_suggestion_8am_5),\n",
    "        ('suggestion', 'threshold=10(3am)') : pd.Series(data=travel_time_suggestion_3am_10),\n",
    "        ('suggestion', 'threshold=10(8am)') : pd.Series(data=travel_time_suggestion_8am_10),\n",
    "    },\n",
    "    index=[_ for _ in range(10 + 1)]\n",
    ")"
   ],
   "metadata": {
    "collapsed": false,
    "pycharm": {
     "name": "#%%\n",
     "is_executing": true
    }
   }
  },
  {
   "cell_type": "code",
   "execution_count": null,
   "outputs": [],
   "source": [
    "# Excelファイルに出力\n",
    "with pd.ExcelWriter('../../evaluation.xlsx') as writer:\n",
    "    excel_travel_time_df.to_excel(writer, sheet_name='travel time')\n"
   ],
   "metadata": {
    "collapsed": false,
    "pycharm": {
     "name": "#%%\n",
     "is_executing": true
    }
   }
  }
 ],
 "metadata": {
  "kernelspec": {
   "display_name": "Python 3",
   "language": "python",
   "name": "python3"
  },
  "language_info": {
   "codemirror_mode": {
    "name": "ipython",
    "version": 2
   },
   "file_extension": ".py",
   "mimetype": "text/x-python",
   "name": "python",
   "nbconvert_exporter": "python",
   "pygments_lexer": "ipython2",
   "version": "2.7.6"
  }
 },
 "nbformat": 4,
 "nbformat_minor": 0
}