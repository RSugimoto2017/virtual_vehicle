{
 "cells": [
  {
   "cell_type": "code",
   "execution_count": 8,
   "metadata": {
    "collapsed": true
   },
   "outputs": [],
   "source": [
    "# 必要モジュールをインポート\n",
    "import shutil\n",
    "import os"
   ]
  },
  {
   "cell_type": "code",
   "execution_count": 9,
   "outputs": [
    {
     "name": "stdout",
     "output_type": "stream",
     "text": [
      "True\n",
      "True\n"
     ]
    }
   ],
   "source": [
    "# 3amのファイルが存在するかの確認\n",
    "target_3am = '../../dua3am.actuated.sumocfg'\n",
    "print(os.path.exists(target_3am))\n",
    "\n",
    "# 8amのファイルが存在するかの確認\n",
    "target_8am = '../../dua8am.actuated.sumocfg'\n",
    "print(os.path.exists(target_8am))"
   ],
   "metadata": {
    "collapsed": false,
    "pycharm": {
     "name": "#%%\n"
    }
   }
  },
  {
   "cell_type": "code",
   "execution_count": 11,
   "outputs": [],
   "source": [
    "method = ['normal', 'suggestion']\n",
    "schedule = ['3', '8']\n",
    "num = 10\n",
    "threshold = ['3', '5', '10']\n",
    "\n",
    "for m in method:\n",
    "    for s in schedule:\n",
    "        for i in range(1, num + 1):\n",
    "            for j in threshold:\n",
    "                if s == '3':\n",
    "                    shutil.copyfile(target_3am, '../../output/{}/{}am/change_num_{}/threshold_{}/dua.actuated.sumocfg'.format(m, s, str(i), j))\n",
    "                elif s == '8':\n",
    "                    shutil.copyfile(target_8am, '../../output/{}/{}am/change_num_{}/threshold_{}/dua.actuated.sumocfg'.format(m, s, str(i), j))"
   ],
   "metadata": {
    "collapsed": false,
    "pycharm": {
     "name": "#%%\n"
    }
   }
  },
  {
   "cell_type": "code",
   "execution_count": null,
   "outputs": [],
   "source": [],
   "metadata": {
    "collapsed": false,
    "pycharm": {
     "name": "#%%\n"
    }
   }
  }
 ],
 "metadata": {
  "kernelspec": {
   "display_name": "Python 3",
   "language": "python",
   "name": "python3"
  },
  "language_info": {
   "codemirror_mode": {
    "name": "ipython",
    "version": 2
   },
   "file_extension": ".py",
   "mimetype": "text/x-python",
   "name": "python",
   "nbconvert_exporter": "python",
   "pygments_lexer": "ipython2",
   "version": "2.7.6"
  }
 },
 "nbformat": 4,
 "nbformat_minor": 0
}