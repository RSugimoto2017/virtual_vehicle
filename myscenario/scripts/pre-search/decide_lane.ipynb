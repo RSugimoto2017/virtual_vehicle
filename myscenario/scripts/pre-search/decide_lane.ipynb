{
 "cells": [
  {
   "cell_type": "markdown",
   "source": [
    "### lane のデータを解析"
   ],
   "metadata": {
    "collapsed": false,
    "pycharm": {
     "name": "#%% md\n"
    }
   }
  },
  {
   "cell_type": "code",
   "execution_count": 19,
   "outputs": [],
   "source": [
    "import csv, os\n",
    "import numpy\n",
    "import pandas as pd"
   ],
   "metadata": {
    "collapsed": false,
    "pycharm": {
     "name": "#%%\n"
    }
   }
  },
  {
   "cell_type": "code",
   "execution_count": 20,
   "outputs": [
    {
     "name": "stdout",
     "output_type": "stream",
     "text": [
      "file name: ../../output/3am/lane_data.csv\n"
     ]
    }
   ],
   "source": [
    "file_path = '../../output/3am/lane_data.csv'\n",
    "print('file name: {}'.format(file_path))"
   ],
   "metadata": {
    "collapsed": false,
    "pycharm": {
     "name": "#%%\n"
    }
   }
  },
  {
   "cell_type": "code",
   "execution_count": 21,
   "outputs": [],
   "source": [
    "# csvからdfに変換\n",
    "df = pd.read_csv(file_path)"
   ],
   "metadata": {
    "collapsed": false,
    "pycharm": {
     "name": "#%%\n"
    }
   }
  },
  {
   "cell_type": "code",
   "execution_count": 22,
   "outputs": [
    {
     "data": {
      "text/plain": "       lane_id  length  lane_num       edge\n0  --30244#0_0  642.29         2  --30244#0\n1  --30244#0_1  642.29         2  --30244#0\n2  --30244#1_0  145.98         2  --30244#1\n3  --30244#1_1  145.98         2  --30244#1\n4  --30244#2_0  130.39         2  --30244#2",
      "text/html": "<div>\n<style scoped>\n    .dataframe tbody tr th:only-of-type {\n        vertical-align: middle;\n    }\n\n    .dataframe tbody tr th {\n        vertical-align: top;\n    }\n\n    .dataframe thead th {\n        text-align: right;\n    }\n</style>\n<table border=\"1\" class=\"dataframe\">\n  <thead>\n    <tr style=\"text-align: right;\">\n      <th></th>\n      <th>lane_id</th>\n      <th>length</th>\n      <th>lane_num</th>\n      <th>edge</th>\n    </tr>\n  </thead>\n  <tbody>\n    <tr>\n      <th>0</th>\n      <td>--30244#0_0</td>\n      <td>642.29</td>\n      <td>2</td>\n      <td>--30244#0</td>\n    </tr>\n    <tr>\n      <th>1</th>\n      <td>--30244#0_1</td>\n      <td>642.29</td>\n      <td>2</td>\n      <td>--30244#0</td>\n    </tr>\n    <tr>\n      <th>2</th>\n      <td>--30244#1_0</td>\n      <td>145.98</td>\n      <td>2</td>\n      <td>--30244#1</td>\n    </tr>\n    <tr>\n      <th>3</th>\n      <td>--30244#1_1</td>\n      <td>145.98</td>\n      <td>2</td>\n      <td>--30244#1</td>\n    </tr>\n    <tr>\n      <th>4</th>\n      <td>--30244#2_0</td>\n      <td>130.39</td>\n      <td>2</td>\n      <td>--30244#2</td>\n    </tr>\n  </tbody>\n</table>\n</div>"
     },
     "execution_count": 22,
     "metadata": {},
     "output_type": "execute_result"
    }
   ],
   "source": [
    "df.head()"
   ],
   "metadata": {
    "collapsed": false,
    "pycharm": {
     "name": "#%%\n"
    }
   }
  },
  {
   "cell_type": "code",
   "execution_count": 23,
   "outputs": [
    {
     "name": "stdout",
     "output_type": "stream",
     "text": [
      "24575\n"
     ]
    }
   ],
   "source": [
    "print(len(df))"
   ],
   "metadata": {
    "collapsed": false,
    "pycharm": {
     "name": "#%%\n"
    }
   }
  },
  {
   "cell_type": "code",
   "execution_count": 24,
   "outputs": [
    {
     "data": {
      "text/plain": "        lane_id  length  lane_num       edge\n10    --30246_0  135.33         1    --30246\n11    --30248_0   91.15         1    --30248\n12    --30250_0   75.00         1    --30250\n13    --30252_0  132.97         1    --30252\n14  --30254#0_0   12.38         1  --30254#0",
      "text/html": "<div>\n<style scoped>\n    .dataframe tbody tr th:only-of-type {\n        vertical-align: middle;\n    }\n\n    .dataframe tbody tr th {\n        vertical-align: top;\n    }\n\n    .dataframe thead th {\n        text-align: right;\n    }\n</style>\n<table border=\"1\" class=\"dataframe\">\n  <thead>\n    <tr style=\"text-align: right;\">\n      <th></th>\n      <th>lane_id</th>\n      <th>length</th>\n      <th>lane_num</th>\n      <th>edge</th>\n    </tr>\n  </thead>\n  <tbody>\n    <tr>\n      <th>10</th>\n      <td>--30246_0</td>\n      <td>135.33</td>\n      <td>1</td>\n      <td>--30246</td>\n    </tr>\n    <tr>\n      <th>11</th>\n      <td>--30248_0</td>\n      <td>91.15</td>\n      <td>1</td>\n      <td>--30248</td>\n    </tr>\n    <tr>\n      <th>12</th>\n      <td>--30250_0</td>\n      <td>75.00</td>\n      <td>1</td>\n      <td>--30250</td>\n    </tr>\n    <tr>\n      <th>13</th>\n      <td>--30252_0</td>\n      <td>132.97</td>\n      <td>1</td>\n      <td>--30252</td>\n    </tr>\n    <tr>\n      <th>14</th>\n      <td>--30254#0_0</td>\n      <td>12.38</td>\n      <td>1</td>\n      <td>--30254#0</td>\n    </tr>\n  </tbody>\n</table>\n</div>"
     },
     "execution_count": 24,
     "metadata": {},
     "output_type": "execute_result"
    }
   ],
   "source": [
    "df[df['lane_num'] == 1].head()"
   ],
   "metadata": {
    "collapsed": false,
    "pycharm": {
     "name": "#%%\n"
    }
   }
  },
  {
   "cell_type": "code",
   "execution_count": 25,
   "outputs": [
    {
     "data": {
      "text/plain": "             length      lane_num\ncount  24575.000000  24575.000000\nmean      69.837035      1.601424\nstd      192.459076      0.852969\nmin        0.100000      1.000000\n25%        6.190000      1.000000\n50%       10.620000      1.000000\n75%       63.045000      2.000000\nmax     5770.070000      5.000000",
      "text/html": "<div>\n<style scoped>\n    .dataframe tbody tr th:only-of-type {\n        vertical-align: middle;\n    }\n\n    .dataframe tbody tr th {\n        vertical-align: top;\n    }\n\n    .dataframe thead th {\n        text-align: right;\n    }\n</style>\n<table border=\"1\" class=\"dataframe\">\n  <thead>\n    <tr style=\"text-align: right;\">\n      <th></th>\n      <th>length</th>\n      <th>lane_num</th>\n    </tr>\n  </thead>\n  <tbody>\n    <tr>\n      <th>count</th>\n      <td>24575.000000</td>\n      <td>24575.000000</td>\n    </tr>\n    <tr>\n      <th>mean</th>\n      <td>69.837035</td>\n      <td>1.601424</td>\n    </tr>\n    <tr>\n      <th>std</th>\n      <td>192.459076</td>\n      <td>0.852969</td>\n    </tr>\n    <tr>\n      <th>min</th>\n      <td>0.100000</td>\n      <td>1.000000</td>\n    </tr>\n    <tr>\n      <th>25%</th>\n      <td>6.190000</td>\n      <td>1.000000</td>\n    </tr>\n    <tr>\n      <th>50%</th>\n      <td>10.620000</td>\n      <td>1.000000</td>\n    </tr>\n    <tr>\n      <th>75%</th>\n      <td>63.045000</td>\n      <td>2.000000</td>\n    </tr>\n    <tr>\n      <th>max</th>\n      <td>5770.070000</td>\n      <td>5.000000</td>\n    </tr>\n  </tbody>\n</table>\n</div>"
     },
     "execution_count": 25,
     "metadata": {},
     "output_type": "execute_result"
    }
   ],
   "source": [
    "df.describe()"
   ],
   "metadata": {
    "collapsed": false,
    "pycharm": {
     "name": "#%%\n"
    }
   }
  },
  {
   "cell_type": "code",
   "execution_count": 26,
   "outputs": [
    {
     "data": {
      "text/plain": "          lane_id  length  lane_num       edge\n2811  --32278#0_0  408.72         4  --32278#0\n2812  --32278#0_1  408.72         4  --32278#0\n2813  --32278#0_2  408.72         4  --32278#0\n2814  --32278#0_3  408.72         4  --32278#0\n2815  --32278#1_0  140.07         4  --32278#1",
      "text/html": "<div>\n<style scoped>\n    .dataframe tbody tr th:only-of-type {\n        vertical-align: middle;\n    }\n\n    .dataframe tbody tr th {\n        vertical-align: top;\n    }\n\n    .dataframe thead th {\n        text-align: right;\n    }\n</style>\n<table border=\"1\" class=\"dataframe\">\n  <thead>\n    <tr style=\"text-align: right;\">\n      <th></th>\n      <th>lane_id</th>\n      <th>length</th>\n      <th>lane_num</th>\n      <th>edge</th>\n    </tr>\n  </thead>\n  <tbody>\n    <tr>\n      <th>2811</th>\n      <td>--32278#0_0</td>\n      <td>408.72</td>\n      <td>4</td>\n      <td>--32278#0</td>\n    </tr>\n    <tr>\n      <th>2812</th>\n      <td>--32278#0_1</td>\n      <td>408.72</td>\n      <td>4</td>\n      <td>--32278#0</td>\n    </tr>\n    <tr>\n      <th>2813</th>\n      <td>--32278#0_2</td>\n      <td>408.72</td>\n      <td>4</td>\n      <td>--32278#0</td>\n    </tr>\n    <tr>\n      <th>2814</th>\n      <td>--32278#0_3</td>\n      <td>408.72</td>\n      <td>4</td>\n      <td>--32278#0</td>\n    </tr>\n    <tr>\n      <th>2815</th>\n      <td>--32278#1_0</td>\n      <td>140.07</td>\n      <td>4</td>\n      <td>--32278#1</td>\n    </tr>\n  </tbody>\n</table>\n</div>"
     },
     "execution_count": 26,
     "metadata": {},
     "output_type": "execute_result"
    }
   ],
   "source": [
    "df[df['lane_num'] == 4].head()"
   ],
   "metadata": {
    "collapsed": false,
    "pycharm": {
     "name": "#%%\n"
    }
   }
  },
  {
   "cell_type": "code",
   "execution_count": 27,
   "outputs": [
    {
     "data": {
      "text/plain": "         lane_id  length  lane_num      edge\n6778  -31876#1_0   58.48         5  -31876#1\n6779  -31876#1_1   58.48         5  -31876#1\n6780  -31876#1_2   58.48         5  -31876#1\n6781  -31876#1_3   58.48         5  -31876#1\n6782  -31876#1_4   58.48         5  -31876#1\n6783  -31876#2_0  113.92         5  -31876#2\n6784  -31876#2_1  113.92         5  -31876#2\n6785  -31876#2_2  113.92         5  -31876#2\n6786  -31876#2_3  113.92         5  -31876#2\n6787  -31876#2_4  113.92         5  -31876#2\n6788  -31876#3_0   96.40         5  -31876#3\n6789  -31876#3_1   96.40         5  -31876#3\n6790  -31876#3_2   96.40         5  -31876#3\n6791  -31876#3_3   96.40         5  -31876#3\n6792  -31876#3_4   96.40         5  -31876#3",
      "text/html": "<div>\n<style scoped>\n    .dataframe tbody tr th:only-of-type {\n        vertical-align: middle;\n    }\n\n    .dataframe tbody tr th {\n        vertical-align: top;\n    }\n\n    .dataframe thead th {\n        text-align: right;\n    }\n</style>\n<table border=\"1\" class=\"dataframe\">\n  <thead>\n    <tr style=\"text-align: right;\">\n      <th></th>\n      <th>lane_id</th>\n      <th>length</th>\n      <th>lane_num</th>\n      <th>edge</th>\n    </tr>\n  </thead>\n  <tbody>\n    <tr>\n      <th>6778</th>\n      <td>-31876#1_0</td>\n      <td>58.48</td>\n      <td>5</td>\n      <td>-31876#1</td>\n    </tr>\n    <tr>\n      <th>6779</th>\n      <td>-31876#1_1</td>\n      <td>58.48</td>\n      <td>5</td>\n      <td>-31876#1</td>\n    </tr>\n    <tr>\n      <th>6780</th>\n      <td>-31876#1_2</td>\n      <td>58.48</td>\n      <td>5</td>\n      <td>-31876#1</td>\n    </tr>\n    <tr>\n      <th>6781</th>\n      <td>-31876#1_3</td>\n      <td>58.48</td>\n      <td>5</td>\n      <td>-31876#1</td>\n    </tr>\n    <tr>\n      <th>6782</th>\n      <td>-31876#1_4</td>\n      <td>58.48</td>\n      <td>5</td>\n      <td>-31876#1</td>\n    </tr>\n    <tr>\n      <th>6783</th>\n      <td>-31876#2_0</td>\n      <td>113.92</td>\n      <td>5</td>\n      <td>-31876#2</td>\n    </tr>\n    <tr>\n      <th>6784</th>\n      <td>-31876#2_1</td>\n      <td>113.92</td>\n      <td>5</td>\n      <td>-31876#2</td>\n    </tr>\n    <tr>\n      <th>6785</th>\n      <td>-31876#2_2</td>\n      <td>113.92</td>\n      <td>5</td>\n      <td>-31876#2</td>\n    </tr>\n    <tr>\n      <th>6786</th>\n      <td>-31876#2_3</td>\n      <td>113.92</td>\n      <td>5</td>\n      <td>-31876#2</td>\n    </tr>\n    <tr>\n      <th>6787</th>\n      <td>-31876#2_4</td>\n      <td>113.92</td>\n      <td>5</td>\n      <td>-31876#2</td>\n    </tr>\n    <tr>\n      <th>6788</th>\n      <td>-31876#3_0</td>\n      <td>96.40</td>\n      <td>5</td>\n      <td>-31876#3</td>\n    </tr>\n    <tr>\n      <th>6789</th>\n      <td>-31876#3_1</td>\n      <td>96.40</td>\n      <td>5</td>\n      <td>-31876#3</td>\n    </tr>\n    <tr>\n      <th>6790</th>\n      <td>-31876#3_2</td>\n      <td>96.40</td>\n      <td>5</td>\n      <td>-31876#3</td>\n    </tr>\n    <tr>\n      <th>6791</th>\n      <td>-31876#3_3</td>\n      <td>96.40</td>\n      <td>5</td>\n      <td>-31876#3</td>\n    </tr>\n    <tr>\n      <th>6792</th>\n      <td>-31876#3_4</td>\n      <td>96.40</td>\n      <td>5</td>\n      <td>-31876#3</td>\n    </tr>\n  </tbody>\n</table>\n</div>"
     },
     "execution_count": 27,
     "metadata": {},
     "output_type": "execute_result"
    }
   ],
   "source": [
    "df[df['lane_num'] == 5]"
   ],
   "metadata": {
    "collapsed": false,
    "pycharm": {
     "name": "#%%\n"
    }
   }
  },
  {
   "cell_type": "code",
   "execution_count": 31,
   "outputs": [],
   "source": [
    "eg = df.groupby('edge').agg({\n",
    "    'lane_id': list,\n",
    "    'length': 'mean',\n",
    "    'lane_num': 'mean'\n",
    "})"
   ],
   "metadata": {
    "collapsed": false,
    "pycharm": {
     "name": "#%%\n"
    }
   }
  },
  {
   "cell_type": "code",
   "execution_count": 32,
   "outputs": [
    {
     "data": {
      "text/plain": "                                                    lane_id  length  lane_num\nedge                                                                         \n-31876#1  [-31876#1_0, -31876#1_1, -31876#1_2, -31876#1_...   58.48         5\n-31876#2  [-31876#2_0, -31876#2_1, -31876#2_2, -31876#2_...  113.92         5\n-31876#3  [-31876#3_0, -31876#3_1, -31876#3_2, -31876#3_...   96.40         5",
      "text/html": "<div>\n<style scoped>\n    .dataframe tbody tr th:only-of-type {\n        vertical-align: middle;\n    }\n\n    .dataframe tbody tr th {\n        vertical-align: top;\n    }\n\n    .dataframe thead th {\n        text-align: right;\n    }\n</style>\n<table border=\"1\" class=\"dataframe\">\n  <thead>\n    <tr style=\"text-align: right;\">\n      <th></th>\n      <th>lane_id</th>\n      <th>length</th>\n      <th>lane_num</th>\n    </tr>\n    <tr>\n      <th>edge</th>\n      <th></th>\n      <th></th>\n      <th></th>\n    </tr>\n  </thead>\n  <tbody>\n    <tr>\n      <th>-31876#1</th>\n      <td>[-31876#1_0, -31876#1_1, -31876#1_2, -31876#1_...</td>\n      <td>58.48</td>\n      <td>5</td>\n    </tr>\n    <tr>\n      <th>-31876#2</th>\n      <td>[-31876#2_0, -31876#2_1, -31876#2_2, -31876#2_...</td>\n      <td>113.92</td>\n      <td>5</td>\n    </tr>\n    <tr>\n      <th>-31876#3</th>\n      <td>[-31876#3_0, -31876#3_1, -31876#3_2, -31876#3_...</td>\n      <td>96.40</td>\n      <td>5</td>\n    </tr>\n  </tbody>\n</table>\n</div>"
     },
     "execution_count": 32,
     "metadata": {},
     "output_type": "execute_result"
    }
   ],
   "source": [
    "eg[eg['lane_num'] == 5]"
   ],
   "metadata": {
    "collapsed": false,
    "pycharm": {
     "name": "#%%\n"
    }
   }
  },
  {
   "cell_type": "code",
   "execution_count": 33,
   "outputs": [
    {
     "data": {
      "text/plain": "                                                                        lane_id  \\\nedge                                                                              \n--32278#0                     [--32278#0_0, --32278#0_1, --32278#0_2, --3227...   \n--32278#1                     [--32278#1_0, --32278#1_1, --32278#1_2, --3227...   \n--32278#2                     [--32278#2_0, --32278#2_1, --32278#2_2, --3227...   \n--32278#3                     [--32278#3_0, --32278#3_1, --32278#3_2, --3227...   \n--32278#4                     [--32278#4_0, --32278#4_1, --32278#4_2, --3227...   \n...                                                                         ...   \n:-32454#1-AddedOffRampNode_0  [:-32454#1-AddedOffRampNode_0_0, :-32454#1-Add...   \n:-32454#1-AddedOnRampNode_0   [:-32454#1-AddedOnRampNode_0_0, :-32454#1-Adde...   \n:-32798-AddedOnRampNode_0     [:-32798-AddedOnRampNode_0_0, :-32798-AddedOnR...   \n:-32858#1-AddedOffRampNode_0  [:-32858#1-AddedOffRampNode_0_0, :-32858#1-Add...   \n:-32858#1-AddedOnRampNode_0   [:-32858#1-AddedOnRampNode_0_0, :-32858#1-Adde...   \n\n                              length  lane_num  \nedge                                            \n--32278#0                     408.72         4  \n--32278#1                     140.07         4  \n--32278#2                     217.83         4  \n--32278#3                     112.76         4  \n--32278#4                     532.02         4  \n...                              ...       ...  \n:-32454#1-AddedOffRampNode_0    3.38         4  \n:-32454#1-AddedOnRampNode_0     3.75         4  \n:-32798-AddedOnRampNode_0      23.33         4  \n:-32858#1-AddedOffRampNode_0    3.37         4  \n:-32858#1-AddedOnRampNode_0     3.75         4  \n\n[144 rows x 3 columns]",
      "text/html": "<div>\n<style scoped>\n    .dataframe tbody tr th:only-of-type {\n        vertical-align: middle;\n    }\n\n    .dataframe tbody tr th {\n        vertical-align: top;\n    }\n\n    .dataframe thead th {\n        text-align: right;\n    }\n</style>\n<table border=\"1\" class=\"dataframe\">\n  <thead>\n    <tr style=\"text-align: right;\">\n      <th></th>\n      <th>lane_id</th>\n      <th>length</th>\n      <th>lane_num</th>\n    </tr>\n    <tr>\n      <th>edge</th>\n      <th></th>\n      <th></th>\n      <th></th>\n    </tr>\n  </thead>\n  <tbody>\n    <tr>\n      <th>--32278#0</th>\n      <td>[--32278#0_0, --32278#0_1, --32278#0_2, --3227...</td>\n      <td>408.72</td>\n      <td>4</td>\n    </tr>\n    <tr>\n      <th>--32278#1</th>\n      <td>[--32278#1_0, --32278#1_1, --32278#1_2, --3227...</td>\n      <td>140.07</td>\n      <td>4</td>\n    </tr>\n    <tr>\n      <th>--32278#2</th>\n      <td>[--32278#2_0, --32278#2_1, --32278#2_2, --3227...</td>\n      <td>217.83</td>\n      <td>4</td>\n    </tr>\n    <tr>\n      <th>--32278#3</th>\n      <td>[--32278#3_0, --32278#3_1, --32278#3_2, --3227...</td>\n      <td>112.76</td>\n      <td>4</td>\n    </tr>\n    <tr>\n      <th>--32278#4</th>\n      <td>[--32278#4_0, --32278#4_1, --32278#4_2, --3227...</td>\n      <td>532.02</td>\n      <td>4</td>\n    </tr>\n    <tr>\n      <th>...</th>\n      <td>...</td>\n      <td>...</td>\n      <td>...</td>\n    </tr>\n    <tr>\n      <th>:-32454#1-AddedOffRampNode_0</th>\n      <td>[:-32454#1-AddedOffRampNode_0_0, :-32454#1-Add...</td>\n      <td>3.38</td>\n      <td>4</td>\n    </tr>\n    <tr>\n      <th>:-32454#1-AddedOnRampNode_0</th>\n      <td>[:-32454#1-AddedOnRampNode_0_0, :-32454#1-Adde...</td>\n      <td>3.75</td>\n      <td>4</td>\n    </tr>\n    <tr>\n      <th>:-32798-AddedOnRampNode_0</th>\n      <td>[:-32798-AddedOnRampNode_0_0, :-32798-AddedOnR...</td>\n      <td>23.33</td>\n      <td>4</td>\n    </tr>\n    <tr>\n      <th>:-32858#1-AddedOffRampNode_0</th>\n      <td>[:-32858#1-AddedOffRampNode_0_0, :-32858#1-Add...</td>\n      <td>3.37</td>\n      <td>4</td>\n    </tr>\n    <tr>\n      <th>:-32858#1-AddedOnRampNode_0</th>\n      <td>[:-32858#1-AddedOnRampNode_0_0, :-32858#1-Adde...</td>\n      <td>3.75</td>\n      <td>4</td>\n    </tr>\n  </tbody>\n</table>\n<p>144 rows × 3 columns</p>\n</div>"
     },
     "execution_count": 33,
     "metadata": {},
     "output_type": "execute_result"
    }
   ],
   "source": [
    "eg[eg['lane_num'] == 4]"
   ],
   "metadata": {
    "collapsed": false,
    "pycharm": {
     "name": "#%%\n"
    }
   }
  },
  {
   "cell_type": "code",
   "execution_count": 41,
   "outputs": [
    {
     "name": "stdout",
     "output_type": "stream",
     "text": [
      "1 0.1\n",
      "1 1843.83\n",
      "                 lane_id  length  lane_num\n",
      "edge                                      \n",
      ":-11256_0  [:-11256_0_0]     0.1         1\n",
      ":-14502_0  [:-14502_0_0]     0.1         1\n",
      ":-16224_0  [:-16224_0_0]     0.1         1\n",
      ":-16224_1  [:-16224_1_0]     0.1         1\n",
      ":-25018_1  [:-25018_1_0]     0.1         1\n",
      ":-25412_0  [:-25412_0_0]     0.1         1\n",
      ":-25748_0  [:-25748_0_0]     0.1         1\n",
      ":-25748_1  [:-25748_1_0]     0.1         1\n",
      ":-268_0      [:-268_0_0]     0.1         1\n",
      ":-268_1      [:-268_1_0]     0.1         1\n",
      ":-4658_0    [:-4658_0_0]     0.1         1\n",
      ":-80_0        [:-80_0_0]     0.1         1\n",
      ":-80_1        [:-80_1_0]     0.1         1\n",
      "2 0.1\n",
      "2 2757.06\n",
      "                              lane_id  length  lane_num\n",
      "edge                                                   \n",
      ":-14844_0  [:-14844_0_0, :-14844_0_1]     0.1         2\n",
      ":-14844_2  [:-14844_2_0, :-14844_2_1]     0.1         2\n",
      "3 0.10000000000000002\n",
      "3 5770.07\n",
      "                                           lane_id  length  lane_num\n",
      "edge                                                                \n",
      ":-11556_0  [:-11556_0_0, :-11556_0_1, :-11556_0_2]     0.1         3\n",
      ":-15606_0  [:-15606_0_0, :-15606_0_1, :-15606_0_2]     0.1         3\n",
      ":-22774_0  [:-22774_0_0, :-22774_0_1, :-22774_0_2]     0.1         3\n",
      ":-22774_3  [:-22774_3_0, :-22774_3_1, :-22774_3_2]     0.1         3\n",
      ":-28674_0  [:-28674_0_0, :-28674_0_1, :-28674_0_2]     0.1         3\n",
      ":-346_0          [:-346_0_0, :-346_0_1, :-346_0_2]     0.1         3\n",
      ":-346_3          [:-346_3_0, :-346_3_1, :-346_3_2]     0.1         3\n",
      ":-78_0              [:-78_0_0, :-78_0_1, :-78_0_2]     0.1         3\n",
      ":-78_3              [:-78_3_0, :-78_3_1, :-78_3_2]     0.1         3\n",
      "4 3.37\n",
      "4 991.81\n",
      "                                                                         lane_id  \\\n",
      "edge                                                                               \n",
      ":-30668#10-AddedOffRampNode_0  [:-30668#10-AddedOffRampNode_0_0, :-30668#10-A...   \n",
      ":-30668#12-AddedOffRampNode_0  [:-30668#12-AddedOffRampNode_0_0, :-30668#12-A...   \n",
      ":-30668#14-AddedOffRampNode_0  [:-30668#14-AddedOffRampNode_0_0, :-30668#14-A...   \n",
      ":-30668#4-AddedOffRampNode_0   [:-30668#4-AddedOffRampNode_0_0, :-30668#4-Add...   \n",
      ":-30668#7-AddedOffRampNode_0   [:-30668#7-AddedOffRampNode_0_0, :-30668#7-Add...   \n",
      ":-30668#9-AddedOffRampNode_0   [:-30668#9-AddedOffRampNode_0_0, :-30668#9-Add...   \n",
      ":-31366#1-AddedOffRampNode_0   [:-31366#1-AddedOffRampNode_0_0, :-31366#1-Add...   \n",
      ":-31622#10-AddedOffRampNode_0  [:-31622#10-AddedOffRampNode_0_0, :-31622#10-A...   \n",
      ":-31622#12-AddedOffRampNode_0  [:-31622#12-AddedOffRampNode_0_0, :-31622#12-A...   \n",
      ":-31622#2-AddedOffRampNode_0   [:-31622#2-AddedOffRampNode_0_0, :-31622#2-Add...   \n",
      ":-31622#5-AddedOffRampNode_0   [:-31622#5-AddedOffRampNode_0_0, :-31622#5-Add...   \n",
      ":-31622#8-AddedOffRampNode_0   [:-31622#8-AddedOffRampNode_0_0, :-31622#8-Add...   \n",
      ":-32400#2-AddedOffRampNode_0   [:-32400#2-AddedOffRampNode_0_0, :-32400#2-Add...   \n",
      ":-32426#0-AddedOffRampNode_0   [:-32426#0-AddedOffRampNode_0_0, :-32426#0-Add...   \n",
      ":-32426#2-AddedOffRampNode_0   [:-32426#2-AddedOffRampNode_0_0, :-32426#2-Add...   \n",
      ":-32858#1-AddedOffRampNode_0   [:-32858#1-AddedOffRampNode_0_0, :-32858#1-Add...   \n",
      "\n",
      "                               length  lane_num  \n",
      "edge                                             \n",
      ":-30668#10-AddedOffRampNode_0    3.37         4  \n",
      ":-30668#12-AddedOffRampNode_0    3.37         4  \n",
      ":-30668#14-AddedOffRampNode_0    3.37         4  \n",
      ":-30668#4-AddedOffRampNode_0     3.37         4  \n",
      ":-30668#7-AddedOffRampNode_0     3.37         4  \n",
      ":-30668#9-AddedOffRampNode_0     3.37         4  \n",
      ":-31366#1-AddedOffRampNode_0     3.37         4  \n",
      ":-31622#10-AddedOffRampNode_0    3.37         4  \n",
      ":-31622#12-AddedOffRampNode_0    3.37         4  \n",
      ":-31622#2-AddedOffRampNode_0     3.37         4  \n",
      ":-31622#5-AddedOffRampNode_0     3.37         4  \n",
      ":-31622#8-AddedOffRampNode_0     3.37         4  \n",
      ":-32400#2-AddedOffRampNode_0     3.37         4  \n",
      ":-32426#0-AddedOffRampNode_0     3.37         4  \n",
      ":-32426#2-AddedOffRampNode_0     3.37         4  \n",
      ":-32858#1-AddedOffRampNode_0     3.37         4  \n",
      "5 58.48\n",
      "5 113.92\n",
      "                                                    lane_id  length  lane_num\n",
      "edge                                                                         \n",
      "-31876#1  [-31876#1_0, -31876#1_1, -31876#1_2, -31876#1_...   58.48         5\n"
     ]
    }
   ],
   "source": [
    "# lengthの中央値の箇所にpoiを追加する\n",
    "for i in range(1, 6):\n",
    "    data_by_lane = eg[eg['lane_num'] == i]\n",
    "    print(i, data_by_lane['length'].min())\n",
    "    print(i, data_by_lane['length'].max())"
   ],
   "metadata": {
    "collapsed": false,
    "pycharm": {
     "name": "#%%\n"
    }
   }
  },
  {
   "cell_type": "markdown",
   "source": [
    "結局どこにすればいいのかがわからないので，これは却下で\n",
    "\n",
    "シミュレーション領域の真ん中から，上に2つずつ足していく感じで\n",
    "\n",
    "幅は600mずつ"
   ],
   "metadata": {
    "collapsed": false,
    "pycharm": {
     "name": "#%% md\n"
    }
   }
  },
  {
   "cell_type": "code",
   "execution_count": 2,
   "outputs": [
    {
     "name": "stdout",
     "output_type": "stream",
     "text": [
      "[-5, -4, -3, -2, -1, 0, 1, 2, 3, 4, 5] [-5, -4, -3, -2, -1, 0, 1, 2, 3, 4, 5]\n",
      "[(6910.565, 5728.15), (6810.565, 5528.15), (7110.565, 5728.15), (6810.565, 6028.15), (6410.565, 5728.15), (7310.565, 5728.15), (6810.565, 5628.15), (6610.565, 5728.15), (6810.565, 5228.15), (6810.565, 6128.15), (6810.565, 5728.15), (7010.565, 5728.15), (6810.565, 5328.15), (6810.565, 6228.15), (7210.565, 5728.15), (6810.565, 5828.15), (6310.565, 5728.15), (6510.565, 5728.15), (6810.565, 5428.15), (6710.565, 5728.15), (6810.565, 5928.15)]\n",
      "(6910.565, 5728.15)\n",
      "(6810.565, 5528.15)\n",
      "(7110.565, 5728.15)\n",
      "(6810.565, 6028.15)\n",
      "(6410.565, 5728.15)\n",
      "(7310.565, 5728.15)\n",
      "(6810.565, 5628.15)\n",
      "(6610.565, 5728.15)\n",
      "(6810.565, 6128.15)\n",
      "(6810.565, 5228.15)\n",
      "(6810.565, 5728.15)\n",
      "(7010.565, 5728.15)\n",
      "(6810.565, 6228.15)\n",
      "(6810.565, 5328.15)\n",
      "(7210.565, 5728.15)\n",
      "(6810.565, 5828.15)\n",
      "(6310.565, 5728.15)\n",
      "(6510.565, 5728.15)\n",
      "(6810.565, 5428.15)\n",
      "(6710.565, 5728.15)\n",
      "(6810.565, 5928.15)\n"
     ]
    }
   ],
   "source": [
    "center = (6810.565, 5728.15)\n",
    "delta_x = [_ for _ in range(-5, 6)]\n",
    "delta_y = [_ for _ in range(-5, 6)]\n",
    "pos_list = []\n",
    "\n",
    "print(delta_x, delta_y)\n",
    "\n",
    "for i in delta_x:\n",
    "    tmp_x = center[0] + i * 100\n",
    "    tmp_y = center[1]\n",
    "    pos_list.append((tmp_x, tmp_y))\n",
    "\n",
    "for i in delta_y:\n",
    "    tmp_x = center[0]\n",
    "    tmp_y = center[1] + i * 100\n",
    "    pos_list.append((tmp_x, tmp_y))\n",
    "\n",
    "pos_list = list(set(pos_list))\n",
    "print(pos_list)\n",
    "\n",
    "for i in set(pos_list):\n",
    "    print(i)"
   ],
   "metadata": {
    "collapsed": false,
    "pycharm": {
     "name": "#%%\n"
    }
   }
  },
  {
   "cell_type": "code",
   "execution_count": 4,
   "outputs": [
    {
     "name": "stdout",
     "output_type": "stream",
     "text": [
      "True\n",
      "False\n"
     ]
    }
   ],
   "source": [
    "# _でsplitしてvirtualを含むかで判断\n",
    "print('virtual' in 'randUni173:1_virtual_299_0'.split('_'))\n",
    "print('virtual' in 'randUni173:1'.split('_'))"
   ],
   "metadata": {
    "collapsed": false,
    "pycharm": {
     "name": "#%%\n"
    }
   }
  },
  {
   "cell_type": "code",
   "execution_count": null,
   "outputs": [],
   "source": [],
   "metadata": {
    "collapsed": false,
    "pycharm": {
     "name": "#%%\n"
    }
   }
  }
 ],
 "metadata": {
  "kernelspec": {
   "display_name": "Python 3",
   "language": "python",
   "name": "python3"
  },
  "language_info": {
   "codemirror_mode": {
    "name": "ipython",
    "version": 2
   },
   "file_extension": ".py",
   "mimetype": "text/x-python",
   "name": "python",
   "nbconvert_exporter": "python",
   "pygments_lexer": "ipython2",
   "version": "2.7.6"
  }
 },
 "nbformat": 4,
 "nbformat_minor": 0
}