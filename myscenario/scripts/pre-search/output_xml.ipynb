{
 "cells": [
  {
   "cell_type": "markdown",
   "metadata": {
    "collapsed": true,
    "pycharm": {
     "name": "#%% md\n"
    }
   },
   "source": [
    "### XMLファイルを出力"
   ]
  },
  {
   "cell_type": "code",
   "execution_count": 131,
   "outputs": [],
   "source": [
    "# モジュールをインポート\n",
    "from xml.dom import minidom\n",
    "import xmljson\n",
    "import xml.etree.ElementTree as ElementTree\n",
    "import os"
   ],
   "metadata": {
    "collapsed": false,
    "pycharm": {
     "name": "#%%\n"
    }
   }
  },
  {
   "cell_type": "code",
   "execution_count": 138,
   "outputs": [],
   "source": [
    "# 時刻の計算\n",
    "hour = 8\n",
    "begin_second = float(3600 * hour)\n",
    "end_second = float(begin_second + 600)"
   ],
   "metadata": {
    "collapsed": false,
    "pycharm": {
     "name": "#%%\n"
    }
   }
  },
  {
   "cell_type": "code",
   "execution_count": 139,
   "outputs": [
    {
     "name": "stdout",
     "output_type": "stream",
     "text": [
      "True\n"
     ]
    }
   ],
   "source": [
    "# ファイルパスの設定\n",
    "# カレントディレクトリは 'jupyter'\n",
    "# file_name = 'local'\n",
    "file_name = 'transit'\n",
    "file_path = '../../DUARoutes/' + file_name + '.rou.xml'\n",
    "print(os.path.exists(file_path))\n",
    "\n",
    "#パス、ファイル名\n",
    "save_path_file = '../../routes/' + str(hour) + 'am/' + file_name + '.rou.xml'"
   ],
   "metadata": {
    "collapsed": false,
    "pycharm": {
     "name": "#%%\n"
    }
   }
  },
  {
   "cell_type": "code",
   "execution_count": 140,
   "outputs": [],
   "source": [
    "# xmlデータを読み込み\n",
    "read_tree = ElementTree.parse(file_path)\n",
    "# Root階層を取得\n",
    "xml_root = read_tree.getroot()\n",
    "# xmlをdictに変換\n",
    "xml_dict = xmljson.yahoo.data(xml_root)"
   ],
   "metadata": {
    "collapsed": false,
    "pycharm": {
     "name": "#%%\n"
    }
   }
  },
  {
   "cell_type": "code",
   "execution_count": 141,
   "outputs": [
    {
     "data": {
      "text/plain": "<DOM Element: routes at 0x1272b0670>"
     },
     "execution_count": 141,
     "metadata": {},
     "output_type": "execute_result"
    }
   ],
   "source": [
    "# 書き込みファイル用のdomを作成\n",
    "dom = minidom.Document()\n",
    "\n",
    "# rootノードの生成\n",
    "routes = dom.createElement(\"routes\")\n",
    "routes_attr = dom.createAttribute('xmlns:xsi')\n",
    "routes_attr.value = 'http://www.w3.org/2001/XMLSchema-instance'\n",
    "routes.setAttributeNode(routes_attr)\n",
    "routes_attr = dom.createAttribute('xsi:noNamespaceSchemaLocation')\n",
    "routes_attr.value = 'http://sumo.dlr.de/xsd/routes_file.xsd'\n",
    "routes.setAttributeNode(routes_attr)\n",
    "\n",
    "# domに子ノードとして追加\n",
    "dom.appendChild(routes)"
   ],
   "metadata": {
    "collapsed": false,
    "pycharm": {
     "name": "#%%\n"
    }
   }
  },
  {
   "cell_type": "code",
   "execution_count": 142,
   "outputs": [],
   "source": [
    "# 車両データの追加\n",
    "for xml_vehicle in xml_dict['routes']['vehicle']:\n",
    "\n",
    "    if begin_second <= float(xml_vehicle['depart']) < end_second:\n",
    "        depart_time = float(xml_vehicle['depart']) - begin_second\n",
    "        # vehicleのD要素を作成\n",
    "        vehicle = dom.createElement('vehicle')\n",
    "\n",
    "        # id属性の追加\n",
    "        vehicle_attr = dom.createAttribute('id')\n",
    "        vehicle_attr.value = xml_vehicle['id']\n",
    "        vehicle.setAttributeNode(vehicle_attr)\n",
    "\n",
    "        # type属性の追加\n",
    "        vehicle_attr = dom.createAttribute('type')\n",
    "        vehicle_attr.value = xml_vehicle['type']\n",
    "        vehicle.setAttributeNode(vehicle_attr)\n",
    "\n",
    "        # depart属性の追加\n",
    "        vehicle_attr = dom.createAttribute('depart')\n",
    "        vehicle_attr.value = str(depart_time) + '0'\n",
    "        vehicle.setAttributeNode(vehicle_attr)\n",
    "\n",
    "        # departSpeed属性の追加\n",
    "        vehicle_attr = dom.createAttribute('departSpeed')\n",
    "        vehicle_attr.value = xml_vehicle['departSpeed']\n",
    "        vehicle.setAttributeNode(vehicle_attr)\n",
    "\n",
    "        if 'local' == file_name:\n",
    "            # departPos属性の追加\n",
    "            vehicle_attr = dom.createAttribute('departPos')\n",
    "            vehicle_attr.value = xml_vehicle['departPos']\n",
    "            vehicle.setAttributeNode(vehicle_attr)\n",
    "\n",
    "            # arrivalSpeed属性の追加\n",
    "            vehicle_attr = dom.createAttribute('arrivalSpeed')\n",
    "            vehicle_attr.value = xml_vehicle['arrivalSpeed']\n",
    "            vehicle.setAttributeNode(vehicle_attr)\n",
    "\n",
    "            # arrivalPos属性の追加\n",
    "            vehicle_attr = dom.createAttribute('arrivalPos')\n",
    "            vehicle_attr.value = xml_vehicle['arrivalPos']\n",
    "            vehicle.setAttributeNode(vehicle_attr)\n",
    "\n",
    "        # route要素とedges属性の追加\n",
    "        route = dom.createElement('route')\n",
    "        route_attr = dom.createAttribute('edges')\n",
    "        route_attr.value = xml_vehicle['route']['edges']\n",
    "        route.setAttributeNode(route_attr)\n",
    "        vehicle.appendChild(route)\n",
    "\n",
    "        # routes要素にvehicle要素を追加\n",
    "        routes.appendChild(vehicle)"
   ],
   "metadata": {
    "collapsed": false,
    "pycharm": {
     "name": "#%%\n"
    }
   }
  },
  {
   "cell_type": "code",
   "execution_count": 143,
   "outputs": [],
   "source": [
    "#整形、出力\n",
    "xml_str = dom.toprettyxml(indent=\"\\t\")\n",
    "\n",
    "#ファイルの読み書き\n",
    "with open(save_path_file, \"w\") as f:\n",
    "    f.write(xml_str)"
   ],
   "metadata": {
    "collapsed": false,
    "pycharm": {
     "name": "#%%\n"
    }
   }
  },
  {
   "cell_type": "code",
   "execution_count": 101,
   "outputs": [],
   "source": [],
   "metadata": {
    "collapsed": false,
    "pycharm": {
     "name": "#%%\n"
    }
   }
  }
 ],
 "metadata": {
  "kernelspec": {
   "display_name": "Python 3",
   "language": "python",
   "name": "python3"
  },
  "language_info": {
   "codemirror_mode": {
    "name": "ipython",
    "version": 2
   },
   "file_extension": ".py",
   "mimetype": "text/x-python",
   "name": "python",
   "nbconvert_exporter": "python",
   "pygments_lexer": "ipython2",
   "version": "2.7.6"
  }
 },
 "nbformat": 4,
 "nbformat_minor": 0
}