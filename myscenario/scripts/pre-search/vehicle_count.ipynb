{
 "cells": [
  {
   "cell_type": "markdown",
   "metadata": {},
   "source": [
    "### 時間帯ごとの車両台数を算出"
   ]
  },
  {
   "cell_type": "code",
   "execution_count": 4,
   "metadata": {
    "scrolled": true
   },
   "outputs": [],
   "source": [
    "# モジュールをインポート\n",
    "import pandas as pd\n",
    "import xmljson\n",
    "from lxml import etree\n",
    "import os"
   ]
  },
  {
   "cell_type": "code",
   "execution_count": 5,
   "metadata": {},
   "outputs": [
    {
     "name": "stdout",
     "output_type": "stream",
     "text": [
      "True\n"
     ]
    }
   ],
   "source": [
    "# ファイルパスの設定\n",
    "# カレントディレクトリは 'jupyter'\n",
    "# file_path = '../../DUARoutes/local.0.rou.xml'\n",
    "# file_path = '../../DUARoutes/local.1.rou.xml'\n",
    "# file_path = '../../DUARoutes/local.2.rou.xml'\n",
    "# file_path = '../../../scenario/buslines.rou.xml'\n",
    "file_path = '../../props/transit.rou.xml'\n",
    "print(os.path.exists(file_path))"
   ]
  },
  {
   "cell_type": "code",
   "execution_count": 6,
   "outputs": [],
   "source": [
    "# 時刻の計算\n",
    "hour = 8\n",
    "begin_second = 3600 * hour\n",
    "end_second = begin_second + 600"
   ],
   "metadata": {
    "collapsed": false,
    "pycharm": {
     "name": "#%%\n"
    }
   }
  },
  {
   "cell_type": "code",
   "execution_count": 7,
   "outputs": [],
   "source": [
    "# xmlの読み込み\n",
    "xml_tree = etree.parse(file_path)\n",
    "\n",
    "# 全てのタグを取得\n",
    "xml_root = xml_tree.getroot()\n",
    "\n",
    "# xmlをdictに変換\n",
    "xml_dict = xmljson.yahoo.data(xml_root)"
   ],
   "metadata": {
    "collapsed": false,
    "pycharm": {
     "name": "#%%\n"
    }
   }
  },
  {
   "cell_type": "code",
   "execution_count": 8,
   "outputs": [
    {
     "data": {
      "text/plain": "          id  depart\n0  0DEtoFR.0     0.0\n1  0DEtoFR.1     8.0\n2  0LUtoBE.0    12.0\n3  0DEtoFR.2    14.0\n4  0DEtoLU.0    15.0",
      "text/html": "<div>\n<style scoped>\n    .dataframe tbody tr th:only-of-type {\n        vertical-align: middle;\n    }\n\n    .dataframe tbody tr th {\n        vertical-align: top;\n    }\n\n    .dataframe thead th {\n        text-align: right;\n    }\n</style>\n<table border=\"1\" class=\"dataframe\">\n  <thead>\n    <tr style=\"text-align: right;\">\n      <th></th>\n      <th>id</th>\n      <th>depart</th>\n    </tr>\n  </thead>\n  <tbody>\n    <tr>\n      <th>0</th>\n      <td>0DEtoFR.0</td>\n      <td>0.0</td>\n    </tr>\n    <tr>\n      <th>1</th>\n      <td>0DEtoFR.1</td>\n      <td>8.0</td>\n    </tr>\n    <tr>\n      <th>2</th>\n      <td>0LUtoBE.0</td>\n      <td>12.0</td>\n    </tr>\n    <tr>\n      <th>3</th>\n      <td>0DEtoFR.2</td>\n      <td>14.0</td>\n    </tr>\n    <tr>\n      <th>4</th>\n      <td>0DEtoLU.0</td>\n      <td>15.0</td>\n    </tr>\n  </tbody>\n</table>\n</div>"
     },
     "execution_count": 8,
     "metadata": {},
     "output_type": "execute_result"
    }
   ],
   "source": [
    "# データフレーム作成用のデータを作成\n",
    "vehicle_data = list()\n",
    "\n",
    "# 前処理\n",
    "for xml_vehicle in xml_dict['routes']['vehicle']:\n",
    "    vehicle = dict()\n",
    "    vehicle['id'] = xml_vehicle['id']\n",
    "    vehicle['depart'] = float(xml_vehicle['depart'])\n",
    "    vehicle_data.append(vehicle)\n",
    "\n",
    "# データフレームを作成\n",
    "df = pd.DataFrame(vehicle_data)\n",
    "df.head()"
   ],
   "metadata": {
    "collapsed": false,
    "pycharm": {
     "name": "#%%\n"
    }
   }
  },
  {
   "cell_type": "code",
   "execution_count": 9,
   "outputs": [
    {
     "name": "stdout",
     "output_type": "stream",
     "text": [
      "               id   depart\n",
      "19017   8FRtoDE.0  28802.0\n",
      "19018   8DEtoBE.0  28803.0\n",
      "19019   8FRtoLU.0  28803.0\n",
      "19020   8LUtoFR.0  28803.0\n",
      "19021   8BEtoDE.0  28804.0\n",
      "...           ...      ...\n",
      "19835  8FRtoDE.67  29398.0\n",
      "19836  8FRtoLU.70  29398.0\n",
      "19837  8DEtoFR.73  29399.0\n",
      "19838  8LUtoBE.72  29399.0\n",
      "19839  8LUtoFR.69  29399.0\n",
      "\n",
      "[823 rows x 2 columns]\n",
      "823\n"
     ]
    }
   ],
   "source": [
    "print(df.query(str(float(begin_second)) + '< depart <' + str(float(end_second))))\n",
    "print(len(df.query(str(float(begin_second)) + '< depart <' + str(float(end_second)))))"
   ],
   "metadata": {
    "collapsed": false,
    "pycharm": {
     "name": "#%%\n"
    }
   }
  },
  {
   "cell_type": "markdown",
   "source": [
    "#### 入力台数の結果\n",
    "- local.0.rou.xml\n",
    "    - 3:00~3:10: 84台\n",
    "    - 8:00~8:10: 3458台\n",
    "- transit.0.rou.xml\n",
    "    - 3:00~3:10: 311台\n",
    "    - 8:00~8:10: 823台"
   ],
   "metadata": {
    "collapsed": false
   }
  }
 ],
 "metadata": {
  "kernelspec": {
   "name": "python3",
   "language": "python",
   "display_name": "Python 3 (ipykernel)"
  },
  "language_info": {
   "codemirror_mode": {
    "name": "ipython",
    "version": 3
   },
   "file_extension": ".py",
   "mimetype": "text/x-python",
   "name": "python",
   "nbconvert_exporter": "python",
   "pygments_lexer": "ipython3",
   "version": "3.8.5"
  }
 },
 "nbformat": 4,
 "nbformat_minor": 4
}